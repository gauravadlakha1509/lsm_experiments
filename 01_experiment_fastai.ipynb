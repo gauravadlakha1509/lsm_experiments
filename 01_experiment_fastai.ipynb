{
 "cells": [
  {
   "cell_type": "code",
   "execution_count": null,
   "id": "93d02e08",
   "metadata": {},
   "outputs": [],
   "source": [
    "#hide\n",
    "import fastbook\n",
    "fastbook.setup_book()"
   ]
  },
  {
   "cell_type": "code",
   "execution_count": null,
   "id": "343ccec8",
   "metadata": {},
   "outputs": [],
   "source": [
    "#hide\n",
    "from fastbook import *"
   ]
  },
  {
   "cell_type": "code",
   "execution_count": null,
   "id": "9ad7c91d",
   "metadata": {},
   "outputs": [],
   "source": [
    "from fastai.text.all import *"
   ]
  },
  {
   "cell_type": "markdown",
   "id": "f78ac310",
   "metadata": {},
   "source": [
    "path of corpus file"
   ]
  },
  {
   "cell_type": "code",
   "execution_count": null,
   "id": "9f83818b",
   "metadata": {},
   "outputs": [],
   "source": [
    "path = Path('/Users/gaurav.adlakha/lsm/lsm_experiments/data/full_ab/PM/academic_benchmark_20220430.txt')"
   ]
  },
  {
   "cell_type": "code",
   "execution_count": null,
   "id": "a320488b",
   "metadata": {},
   "outputs": [
    {
     "name": "stderr",
     "output_type": "stream",
     "text": [
      "/var/folders/3l/l2zspl49257bfbwgmf7m29lr0000gq/T/ipykernel_10859/39282421.py:1: DtypeWarning: Columns (0,1,2,3,4,6,11,12,16,21,22) have mixed types. Specify dtype option on import or set low_memory=False.\n",
      "  df = pd.read_csv(\n"
     ]
    }
   ],
   "source": [
    "df = pd.read_csv(\n",
    "    path,\n",
    "    delimiter=\"\\t\",\n",
    "    encoding=\"unicode_escape\",\n",
    ")"
   ]
  },
  {
   "cell_type": "markdown",
   "id": "2c9d71fc",
   "metadata": {},
   "source": [
    "change made in df to make it compatible for fast ai like rename col  Description to text and add col is_valid col in df"
   ]
  },
  {
   "cell_type": "code",
   "execution_count": null,
   "id": "bf49a767",
   "metadata": {},
   "outputs": [],
   "source": [
    "df['is_valid'] =False\n",
    "df['text'] = df['Description']"
   ]
  },
  {
   "cell_type": "code",
   "execution_count": null,
   "id": "6bfc6919",
   "metadata": {},
   "outputs": [],
   "source": [
    "# sample df to run code quickly\n",
    "df = df[0:1000]"
   ]
  },
  {
   "cell_type": "code",
   "execution_count": null,
   "id": "2c8e0877",
   "metadata": {},
   "outputs": [],
   "source": [
    "lm = DataBlock(blocks=TextBlock.from_df('text', is_lm=True),\n",
    "                    get_x=ColReader('text'),\n",
    "                    splitter=ColSplitter())"
   ]
  },
  {
   "cell_type": "code",
   "execution_count": null,
   "id": "a2a19acd",
   "metadata": {},
   "outputs": [
    {
     "data": {
      "text/html": [
       "\n",
       "<style>\n",
       "    /* Turns off some styling */\n",
       "    progress {\n",
       "        /* gets rid of default border in Firefox and Opera. */\n",
       "        border: none;\n",
       "        /* Needs to be in here for Safari polyfill so background images work as expected. */\n",
       "        background-size: auto;\n",
       "    }\n",
       "    .progress-bar-interrupted, .progress-bar-interrupted::-webkit-progress-bar {\n",
       "        background: #F44336;\n",
       "    }\n",
       "</style>\n"
      ],
      "text/plain": [
       "<IPython.core.display.HTML object>"
      ]
     },
     "metadata": {},
     "output_type": "display_data"
    },
    {
     "data": {
      "text/html": [],
      "text/plain": [
       "<IPython.core.display.HTML object>"
      ]
     },
     "metadata": {},
     "output_type": "display_data"
    },
    {
     "name": "stderr",
     "output_type": "stream",
     "text": [
      "/Users/gaurav.adlakha/opt/anaconda3/lib/python3.9/site-packages/fastai/torch_core.py:476: FutureWarning: The series.append method is deprecated and will be removed from pandas in a future version. Use pandas.concat instead.\n",
      "  ax = ax.append(pd.Series({label: o}))\n",
      "/Users/gaurav.adlakha/opt/anaconda3/lib/python3.9/site-packages/fastai/torch_core.py:476: FutureWarning: The series.append method is deprecated and will be removed from pandas in a future version. Use pandas.concat instead.\n",
      "  ax = ax.append(pd.Series({label: o}))\n",
      "/Users/gaurav.adlakha/opt/anaconda3/lib/python3.9/site-packages/fastai/torch_core.py:476: FutureWarning: The series.append method is deprecated and will be removed from pandas in a future version. Use pandas.concat instead.\n",
      "  ax = ax.append(pd.Series({label: o}))\n",
      "/Users/gaurav.adlakha/opt/anaconda3/lib/python3.9/site-packages/fastai/torch_core.py:476: FutureWarning: The series.append method is deprecated and will be removed from pandas in a future version. Use pandas.concat instead.\n",
      "  ax = ax.append(pd.Series({label: o}))\n",
      "/Users/gaurav.adlakha/opt/anaconda3/lib/python3.9/site-packages/fastai/torch_core.py:476: FutureWarning: The series.append method is deprecated and will be removed from pandas in a future version. Use pandas.concat instead.\n",
      "  ax = ax.append(pd.Series({label: o}))\n",
      "/Users/gaurav.adlakha/opt/anaconda3/lib/python3.9/site-packages/fastai/torch_core.py:476: FutureWarning: The series.append method is deprecated and will be removed from pandas in a future version. Use pandas.concat instead.\n",
      "  ax = ax.append(pd.Series({label: o}))\n",
      "/Users/gaurav.adlakha/opt/anaconda3/lib/python3.9/site-packages/fastai/torch_core.py:476: FutureWarning: The series.append method is deprecated and will be removed from pandas in a future version. Use pandas.concat instead.\n",
      "  ax = ax.append(pd.Series({label: o}))\n",
      "/Users/gaurav.adlakha/opt/anaconda3/lib/python3.9/site-packages/fastai/torch_core.py:476: FutureWarning: The series.append method is deprecated and will be removed from pandas in a future version. Use pandas.concat instead.\n",
      "  ax = ax.append(pd.Series({label: o}))\n",
      "/Users/gaurav.adlakha/opt/anaconda3/lib/python3.9/site-packages/fastai/torch_core.py:476: FutureWarning: The series.append method is deprecated and will be removed from pandas in a future version. Use pandas.concat instead.\n",
      "  ax = ax.append(pd.Series({label: o}))\n",
      "/Users/gaurav.adlakha/opt/anaconda3/lib/python3.9/site-packages/fastai/torch_core.py:476: FutureWarning: The series.append method is deprecated and will be removed from pandas in a future version. Use pandas.concat instead.\n",
      "  ax = ax.append(pd.Series({label: o}))\n",
      "/Users/gaurav.adlakha/opt/anaconda3/lib/python3.9/site-packages/fastai/torch_core.py:476: FutureWarning: The series.append method is deprecated and will be removed from pandas in a future version. Use pandas.concat instead.\n",
      "  ax = ax.append(pd.Series({label: o}))\n",
      "/Users/gaurav.adlakha/opt/anaconda3/lib/python3.9/site-packages/fastai/torch_core.py:476: FutureWarning: The series.append method is deprecated and will be removed from pandas in a future version. Use pandas.concat instead.\n",
      "  ax = ax.append(pd.Series({label: o}))\n"
     ]
    },
    {
     "data": {
      "text/html": [
       "<table border=\"1\" class=\"dataframe\">\n",
       "  <thead>\n",
       "    <tr style=\"text-align: right;\">\n",
       "      <th></th>\n",
       "      <th>text</th>\n",
       "      <th>text_</th>\n",
       "    </tr>\n",
       "  </thead>\n",
       "  <tbody>\n",
       "    <tr>\n",
       "      <th>0</th>\n",
       "      <td>xxbos xxmaj apply the foundations of the xxmaj first xxmaj amendment to student produced work ( essential ) xxbos xxmaj compare physical and chemical changes xxbos xxmaj count to tell the number of objects xxbos xxmaj describe how the course , character , and effects of the xxmaj civil xxmaj war influenced the xxmaj united xxmaj states . xxbos xxmaj hills worn by erosion and hundreds of lakes carved by glaciers xxbos</td>\n",
       "      <td>xxmaj apply the foundations of the xxmaj first xxmaj amendment to student produced work ( essential ) xxbos xxmaj compare physical and chemical changes xxbos xxmaj count to tell the number of objects xxbos xxmaj describe how the course , character , and effects of the xxmaj civil xxmaj war influenced the xxmaj united xxmaj states . xxbos xxmaj hills worn by erosion and hundreds of lakes carved by glaciers xxbos xxmaj</td>\n",
       "    </tr>\n",
       "    <tr>\n",
       "      <th>1</th>\n",
       "      <td>( possibly ) reach the same results . xxbos xxmaj explain how geographic factors have influenced people , including settlement patterns and population distribution in xxmaj new xxmaj mexico , past and present . xxbos xxmaj design a packaging solution for a product ( such as food , hair care , a tool , etc . ) . xxmaj explain the purposes , goals , and the risks and benefits of your</td>\n",
       "      <td>possibly ) reach the same results . xxbos xxmaj explain how geographic factors have influenced people , including settlement patterns and population distribution in xxmaj new xxmaj mexico , past and present . xxbos xxmaj design a packaging solution for a product ( such as food , hair care , a tool , etc . ) . xxmaj explain the purposes , goals , and the risks and benefits of your design</td>\n",
       "    </tr>\n",
       "    <tr>\n",
       "      <th>2</th>\n",
       "      <td>graph to represent collected data . xxbos xxmaj identify basic similarities in and differences between two texts on the same topic ( e.g. , in illustrations , descriptions , or procedures ) . xxbos xxmaj list the skills , abilities , and talents needed for careers in the xxmaj finance career cluster . xxbos xxmaj look for and express regularity in repeated reasoning . xxbos demonstrate and explain the effect of balanced</td>\n",
       "      <td>to represent collected data . xxbos xxmaj identify basic similarities in and differences between two texts on the same topic ( e.g. , in illustrations , descriptions , or procedures ) . xxbos xxmaj list the skills , abilities , and talents needed for careers in the xxmaj finance career cluster . xxbos xxmaj look for and express regularity in repeated reasoning . xxbos demonstrate and explain the effect of balanced and</td>\n",
       "    </tr>\n",
       "    <tr>\n",
       "      <th>3</th>\n",
       "      <td>and research . xxbos xxmaj explain ideas and opinions with examples in spoken presentations . xxbos deliver short oral presentations about familiar texts , topics , or events . xxbos xxmaj create art that tells a story about a life experience . xxbos xxmaj demonstrate proficiency in the use of quality assurance methods and quality control concepts - the student will be able to : xxbos xxmaj demonstrate the six rights of</td>\n",
       "      <td>research . xxbos xxmaj explain ideas and opinions with examples in spoken presentations . xxbos deliver short oral presentations about familiar texts , topics , or events . xxbos xxmaj create art that tells a story about a life experience . xxbos xxmaj demonstrate proficiency in the use of quality assurance methods and quality control concepts - the student will be able to : xxbos xxmaj demonstrate the six rights of administering</td>\n",
       "    </tr>\n",
       "    <tr>\n",
       "      <th>4</th>\n",
       "      <td>community helpers and describe their role in keeping communities safe . xxbos xxmaj valuing a xxmaj physically xxmaj active xxmaj lifestyle xxbos xxmaj describe how an identified cultural perspective can influence the evaluation of drama / theatre work . xxbos xxmaj demonstrate ability to adjust and match individual instrument to a prescribed pitch - source ( e.g. tuner , electronic drone , individual performer ) . xxbos xxmaj analyze legal and ethical</td>\n",
       "      <td>helpers and describe their role in keeping communities safe . xxbos xxmaj valuing a xxmaj physically xxmaj active xxmaj lifestyle xxbos xxmaj describe how an identified cultural perspective can influence the evaluation of drama / theatre work . xxbos xxmaj demonstrate ability to adjust and match individual instrument to a prescribed pitch - source ( e.g. tuner , electronic drone , individual performer ) . xxbos xxmaj analyze legal and ethical impacts</td>\n",
       "    </tr>\n",
       "    <tr>\n",
       "      <th>5</th>\n",
       "      <td>groups in the new and / or the home language . xxbos xxmaj distinguish long and short vowels when reading regularly spelled one - syllable words . xxbos xxmaj identify career options in music ( essential ) xxbos xxmaj data and xxmaj analysis xxbos identifies , describes , and compares patterns using a wide variety of materials and attributes ( for example , size , shape , color ) . xxbos xxmaj</td>\n",
       "      <td>in the new and / or the home language . xxbos xxmaj distinguish long and short vowels when reading regularly spelled one - syllable words . xxbos xxmaj identify career options in music ( essential ) xxbos xxmaj data and xxmaj analysis xxbos identifies , describes , and compares patterns using a wide variety of materials and attributes ( for example , size , shape , color ) . xxbos xxmaj biotechnology</td>\n",
       "    </tr>\n",
       "  </tbody>\n",
       "</table>"
      ],
      "text/plain": [
       "<IPython.core.display.HTML object>"
      ]
     },
     "metadata": {},
     "output_type": "display_data"
    }
   ],
   "source": [
    "dls = lm.dataloaders(df, bs=64, seq_len=72)\n",
    "dls.show_batch(max_n=6)"
   ]
  },
  {
   "cell_type": "code",
   "execution_count": null,
   "id": "792eddfe",
   "metadata": {},
   "outputs": [],
   "source": [
    "learn = language_model_learner(\n",
    "    dls, AWD_LSTM, drop_mult=0.3, \n",
    "    metrics=[accuracy, Perplexity()]).to_fp16()"
   ]
  },
  {
   "cell_type": "code",
   "execution_count": null,
   "id": "fa93904b",
   "metadata": {},
   "outputs": [
    {
     "name": "stderr",
     "output_type": "stream",
     "text": [
      "/Users/gaurav.adlakha/opt/anaconda3/lib/python3.9/site-packages/torch/autocast_mode.py:162: UserWarning: User provided device_type of 'cuda', but CUDA is not available. Disabling\n",
      "  warnings.warn('User provided device_type of \\'cuda\\', but CUDA is not available. Disabling')\n",
      "/Users/gaurav.adlakha/opt/anaconda3/lib/python3.9/site-packages/torch/cuda/amp/grad_scaler.py:115: UserWarning: torch.cuda.amp.GradScaler is enabled, but CUDA is not available.  Disabling.\n",
      "  warnings.warn(\"torch.cuda.amp.GradScaler is enabled, but CUDA is not available.  Disabling.\")\n"
     ]
    },
    {
     "data": {
      "text/html": [
       "\n",
       "<style>\n",
       "    /* Turns off some styling */\n",
       "    progress {\n",
       "        /* gets rid of default border in Firefox and Opera. */\n",
       "        border: none;\n",
       "        /* Needs to be in here for Safari polyfill so background images work as expected. */\n",
       "        background-size: auto;\n",
       "    }\n",
       "    .progress-bar-interrupted, .progress-bar-interrupted::-webkit-progress-bar {\n",
       "        background: #F44336;\n",
       "    }\n",
       "</style>\n"
      ],
      "text/plain": [
       "<IPython.core.display.HTML object>"
      ]
     },
     "metadata": {},
     "output_type": "display_data"
    },
    {
     "data": {
      "text/html": [
       "\n",
       "    <div>\n",
       "      <progress value='0' class='' max='6' style='width:300px; height:20px; vertical-align: middle;'></progress>\n",
       "      0.00% [0/6 00:00<00:00]\n",
       "    </div>\n",
       "    \n",
       "<table border=\"1\" class=\"dataframe\">\n",
       "  <thead>\n",
       "    <tr style=\"text-align: left;\">\n",
       "      <th>epoch</th>\n",
       "      <th>train_loss</th>\n",
       "      <th>valid_loss</th>\n",
       "      <th>accuracy</th>\n",
       "      <th>perplexity</th>\n",
       "      <th>time</th>\n",
       "    </tr>\n",
       "  </thead>\n",
       "  <tbody>\n",
       "  </tbody>\n",
       "</table><p>\n",
       "\n",
       "    <div>\n",
       "      <progress value='791' class='' max='4779' style='width:300px; height:20px; vertical-align: middle;'></progress>\n",
       "      16.55% [791/4779 17:10:41<86:36:29 3.5300]\n",
       "    </div>\n",
       "    "
      ],
      "text/plain": [
       "<IPython.core.display.HTML object>"
      ]
     },
     "metadata": {},
     "output_type": "display_data"
    }
   ],
   "source": [
    "learn.fit_one_cycle(6, 2e-2)"
   ]
  },
  {
   "cell_type": "code",
   "execution_count": null,
   "id": "cd269f2d",
   "metadata": {},
   "outputs": [],
   "source": [
    "learn.save('6epoch')"
   ]
  },
  {
   "cell_type": "code",
   "execution_count": null,
   "id": "13a5f1b6",
   "metadata": {},
   "outputs": [],
   "source": [
    "learn = learn.load('6epoch')"
   ]
  },
  {
   "cell_type": "code",
   "execution_count": null,
   "id": "0038c67b",
   "metadata": {},
   "outputs": [],
   "source": [
    "learn.unfreeze()\n",
    "learn.fit_one_cycle(6, 2e-3)"
   ]
  },
  {
   "cell_type": "code",
   "execution_count": null,
   "id": "c33baa5b",
   "metadata": {},
   "outputs": [],
   "source": [
    "learn.save_encoder('finetuned')"
   ]
  },
  {
   "cell_type": "code",
   "execution_count": null,
   "id": "95fe387b",
   "metadata": {},
   "outputs": [],
   "source": [
    "TEXT = \"maths\"\n",
    "N_WORDS = 40\n",
    "N_SENTENCES = 2\n",
    "preds = [learn.predict(TEXT, N_WORDS, temperature=0.75) \n",
    "         for _ in range(N_SENTENCES)]"
   ]
  },
  {
   "cell_type": "code",
   "execution_count": null,
   "id": "4fd0596a",
   "metadata": {},
   "outputs": [],
   "source": [
    "print(\"\\n\".join(preds))"
   ]
  },
  {
   "cell_type": "code",
   "execution_count": null,
   "id": "fbed847f",
   "metadata": {},
   "outputs": [],
   "source": [
    "print(\"hello1\")"
   ]
  }
 ],
 "metadata": {
  "kernelspec": {
   "display_name": "Python 3 (ipykernel)",
   "language": "python",
   "name": "python3"
  }
 },
 "nbformat": 4,
 "nbformat_minor": 5
}
